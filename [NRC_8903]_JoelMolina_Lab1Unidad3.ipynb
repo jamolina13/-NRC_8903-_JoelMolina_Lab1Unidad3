{
 "cells": [
  {
   "cell_type": "markdown",
   "id": "37a6d85e",
   "metadata": {},
   "source": [
    "# Lab 1: Creación de dimensiones"
   ]
  },
  {
   "cell_type": "markdown",
   "id": "64e0b697",
   "metadata": {},
   "source": [
    "## Librerías"
   ]
  },
  {
   "cell_type": "code",
   "execution_count": 18,
   "id": "3542c691",
   "metadata": {},
   "outputs": [],
   "source": [
    "import pandas as pd \n",
    "import numpy as np \n",
    "import sqlalchemy\n",
    "from sqlalchemy import create_engine\n",
    "import pyodbc\n",
    "import sqlite3\n"
   ]
  },
  {
   "cell_type": "markdown",
   "id": "2ad5ef95",
   "metadata": {},
   "source": [
    "## Extracción y transformación"
   ]
  },
  {
   "cell_type": "code",
   "execution_count": 45,
   "id": "f5222b61",
   "metadata": {},
   "outputs": [],
   "source": [
    "\n",
    "def ETL():\n",
    "    \n",
    "        \n",
    "    engine = create_engine('sqlite:///chinook.db') #creación de la conexión con la bdd chinook\n",
    "    engine\n",
    "    \n",
    "    #*************************EXTRACCIÓN***************************************************\n",
    "    \n",
    "    frameAlbums = pd.read_sql_query(\"\"\"SELECT  Title from albums; \"\"\", \n",
    "    con=engine.connect())\n",
    "    \n",
    "    frameArtist = pd.read_sql_query(\"\"\"SELECT Name from artists; \"\"\", \n",
    "    con=engine.connect())\n",
    "    \n",
    "    \n",
    "    \n",
    "    frameCustomers = pd.read_sql_query(\"\"\"SELECT FirstName, LastName, Company, Address, City, State, Country, PostalCode, Phone, Fax, Email from customers; \"\"\", \n",
    "    con=engine.connect())\n",
    "    \n",
    "    \n",
    "    frameInvoice_Items = pd.read_sql_query(\"\"\"SELECT UnitPrice, Quantity from invoice_items; \"\"\", \n",
    "    con=engine.connect())\n",
    "   \n",
    "    \n",
    "    \n",
    "    frameGenres = pd.read_sql_query(\"\"\"SELECT Name from genres; \"\"\", \n",
    "    con=engine.connect())\n",
    "    \n",
    "    \n",
    "    \n",
    "    frameInvoices = pd.read_sql_query(\"\"\"SELECT InvoiceDate, BillingAddress,BillingCity, BillingState, BillingCountry, BillingPostalCode, Total from invoices; \"\"\", \n",
    "    con=engine.connect())\n",
    "    \n",
    "    \n",
    "    framePlaylists= pd.read_sql_query(\"\"\"SELECT Name from playlists; \"\"\", \n",
    "    con=engine.connect())\n",
    "    \n",
    "    \n",
    "    frameEmployees= pd.read_sql_query(\"\"\"SELECT LastName, FirstName, Title, BirthDate, HireDate, Address, City, State, Country, PostalCode, Phone, Fax, Email from employees; \"\"\", \n",
    "    con=engine.connect())\n",
    "   \n",
    "    \n",
    "    #**********************TRANSFORMACIÓN****************************************************\n",
    "    \n",
    "    frameAlbums.fillna(\"N/A\", inplace = True)\n",
    "    frameArtist.fillna(\"N/A\", inplace = True)\n",
    "    frameCustomers.fillna(\"N/A\", inplace = True)\n",
    "    frameInvoice_Items.fillna(\"N/A\", inplace = True)\n",
    "    frameGenres.fillna(\"N/A\", inplace = True)\n",
    "    frameInvoices.fillna(\"N/A\", inplace = True)\n",
    "    framePlaylists.fillna(\"N/A\", inplace = True)\n",
    "    frameEmployees.fillna(\"N/A\", inplace = True)\n",
    "        \n",
    "     #**********************CARGA****************************************************\n",
    "   \n",
    "    conec = sqlalchemy.create_engine('mssql+pyodbc://JOELMOLINA/DW_Sales_Music?driver=SQL+Server+Native+Client+11.0')\n",
    "    try:\n",
    "        \n",
    "        frameArtist.to_sql(name='dim_artist', con=conec, if_exists='append',index=False)\n",
    "        frameCustomers.to_sql(name='dim_customer', con=conec, if_exists='append',index=False)\n",
    "        frameInvoice_Items.to_sql(name='dim_invoice_item', con=conec, if_exists='append',index=False)\n",
    "        frameGenres.to_sql(name='dim_genre', con=conec, if_exists='append',index=False)\n",
    "        frameInvoices.to_sql(name='dim_location', con=conec, if_exists='append',index=False)\n",
    "        framePlaylists.to_sql(name='dim_playlist', con=conec, if_exists='append',index=False)\n",
    "        frameEmployees.to_sql(name='dim_employee', con=conec, if_exists='append',index=False)\n",
    "    \n",
    "        print(\"CARGA EXITOSA\")\n",
    "    \n",
    "    except Exception as ex:\n",
    "        print(\"Ocurrió un error: {}\".format(ex))\n",
    "    \n",
    " \n",
    "    \n",
    "\n"
   ]
  },
  {
   "cell_type": "markdown",
   "id": "5a6a8b13",
   "metadata": {},
   "source": [
    "## Main"
   ]
  },
  {
   "cell_type": "code",
   "execution_count": 47,
   "id": "a6fbc7cf",
   "metadata": {},
   "outputs": [],
   "source": [
    "if __name__ == '__main__':\n",
    "        ETL()"
   ]
  },
  {
   "cell_type": "code",
   "execution_count": null,
   "id": "469db863",
   "metadata": {},
   "outputs": [],
   "source": []
  }
 ],
 "metadata": {
  "kernelspec": {
   "display_name": "Python 3 (ipykernel)",
   "language": "python",
   "name": "python3"
  },
  "language_info": {
   "codemirror_mode": {
    "name": "ipython",
    "version": 3
   },
   "file_extension": ".py",
   "mimetype": "text/x-python",
   "name": "python",
   "nbconvert_exporter": "python",
   "pygments_lexer": "ipython3",
   "version": "3.9.7"
  }
 },
 "nbformat": 4,
 "nbformat_minor": 5
}
